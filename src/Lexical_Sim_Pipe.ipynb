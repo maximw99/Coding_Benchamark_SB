{
 "cells": [
  {
   "cell_type": "markdown",
   "metadata": {},
   "source": [
    "# Pipe for Lexical Similarity"
   ]
  },
  {
   "cell_type": "markdown",
   "metadata": {},
   "source": [
    "## Imports"
   ]
  },
  {
   "cell_type": "markdown",
   "metadata": {},
   "source": [
    "## Data"
   ]
  },
  {
   "cell_type": "code",
   "execution_count": 3,
   "metadata": {},
   "outputs": [],
   "source": [
    "import torch\n",
    "from helper import get_pass, convert_pred, compare_results, lexical_sim, write_simlex, read_samples, read_simlex, convert_pred, get_sim_solo\n",
    "import json\n",
    "\n",
    "import pandas as pd\n",
    "import numpy as np\n",
    "import seaborn as sns\n",
    "import math\n",
    "\n",
    "import sklearn.metrics as metrics\n",
    "import evaluate"
   ]
  },
  {
   "cell_type": "markdown",
   "metadata": {},
   "source": [
    "## Data"
   ]
  },
  {
   "cell_type": "code",
   "execution_count": 17,
   "metadata": {},
   "outputs": [],
   "source": [
    "samples_10 = read_samples('results/CLR10.jsonl')\n",
    "samples_1 = read_samples('results/CLR1.jsonl_results.jsonl')"
   ]
  },
  {
   "cell_type": "code",
   "execution_count": null,
   "metadata": {},
   "outputs": [],
   "source": [
    "lex_sims = read_simlex(\"lex_sims.jsonl\")"
   ]
  },
  {
   "cell_type": "code",
   "execution_count": null,
   "metadata": {},
   "outputs": [],
   "source": [
    "lex_sim_solo = get_sim_solo(lex_sims, \"rougeL\")"
   ]
  },
  {
   "cell_type": "markdown",
   "metadata": {},
   "source": [
    "## Lexical Sim"
   ]
  },
  {
   "cell_type": "code",
   "execution_count": 4,
   "metadata": {},
   "outputs": [
    {
     "ename": "NameError",
     "evalue": "name 'samples_1' is not defined",
     "output_type": "error",
     "traceback": [
      "\u001b[0;31m---------------------------------------------------------------------------\u001b[0m",
      "\u001b[0;31mNameError\u001b[0m                                 Traceback (most recent call last)",
      "Cell \u001b[0;32mIn[4], line 1\u001b[0m\n\u001b[0;32m----> 1\u001b[0m sims \u001b[38;5;241m=\u001b[39m lexical_sim(\u001b[43msamples_1\u001b[49m, samples_10)\n",
      "\u001b[0;31mNameError\u001b[0m: name 'samples_1' is not defined"
     ]
    }
   ],
   "source": [
    "sims = lexical_sim(samples_1, samples_10)"
   ]
  },
  {
   "cell_type": "markdown",
   "metadata": {},
   "source": [
    "## Export"
   ]
  },
  {
   "cell_type": "code",
   "execution_count": null,
   "metadata": {},
   "outputs": [],
   "source": [
    "write_simlex(sims, \"\")"
   ]
  },
  {
   "cell_type": "markdown",
   "metadata": {},
   "source": [
    "## Evaluate"
   ]
  },
  {
   "cell_type": "code",
   "execution_count": 24,
   "metadata": {},
   "outputs": [],
   "source": [
    "is_prediction_correct = get_pass(samples_1)\n",
    "is_prediction_correct_bin = convert_pred(is_prediction_correct)"
   ]
  },
  {
   "cell_type": "code",
   "execution_count": 25,
   "metadata": {},
   "outputs": [],
   "source": [
    "kent_auroc = metrics.roc_auc_score(\n",
    "    is_prediction_correct_bin,\n",
    "    lex_sim_solo\n",
    ")"
   ]
  },
  {
   "cell_type": "code",
   "execution_count": 26,
   "metadata": {},
   "outputs": [
    {
     "data": {
      "text/plain": [
       "0.6559115179252478"
      ]
     },
     "execution_count": 26,
     "metadata": {},
     "output_type": "execute_result"
    }
   ],
   "source": [
    "kent_auroc"
   ]
  },
  {
   "cell_type": "code",
   "execution_count": 29,
   "metadata": {},
   "outputs": [],
   "source": [
    "result = compare_results(lex_sim_solo, is_prediction_correct)"
   ]
  },
  {
   "cell_type": "code",
   "execution_count": 30,
   "metadata": {},
   "outputs": [
    {
     "name": "stdout",
     "output_type": "stream",
     "text": [
      "(0.9333333333333333, False)\n",
      "(0.36529680365296807, False)\n",
      "(0.8421052631578948, True)\n",
      "(1.0, True)\n",
      "(0.5227272727272727, True)\n",
      "(0.8387096774193549, True)\n",
      "(0.4761904761904763, False)\n",
      "(1.0, True)\n",
      "(0.8727272727272727, True)\n",
      "(0.5714285714285715, True)\n",
      "(0.6885245901639345, False)\n",
      "(0.8235294117647058, False)\n",
      "(1.0, True)\n",
      "(0.9333333333333333, True)\n",
      "(1.0, True)\n",
      "(1.0, True)\n",
      "(1.0, True)\n",
      "(0.5194805194805195, False)\n",
      "(1.0, True)\n",
      "(0.9500000000000001, False)\n",
      "(0.6567164179104478, False)\n",
      "(1.0, True)\n",
      "(1.0, True)\n",
      "(1.0, True)\n",
      "(1.0, True)\n",
      "(1.0, True)\n",
      "(0.8214285714285714, False)\n",
      "(1.0, True)\n",
      "(1.0, True)\n",
      "(1.0, True)\n",
      "(1.0, True)\n",
      "(0.9411764705882353, True)\n",
      "(0.6909090909090908, False)\n",
      "(0.9666666666666666, False)\n",
      "(1.0, True)\n",
      "(0.9333333333333333, True)\n",
      "(1.0, False)\n",
      "(0.8571428571428571, False)\n",
      "(1.0, False)\n",
      "(0.7173913043478259, False)\n",
      "(0.8993288590604027, True)\n",
      "(0.6838709677419356, False)\n",
      "(1.0, True)\n",
      "(1.0, True)\n",
      "(1.0, False)\n",
      "(1.0, True)\n",
      "(0.9866666666666666, True)\n",
      "(0.9090909090909091, True)\n",
      "(0.9473684210526316, False)\n",
      "(1.0, True)\n",
      "(1.0, False)\n",
      "(0.8846153846153846, True)\n",
      "(1.0, True)\n",
      "(1.0, True)\n",
      "(1.0, False)\n",
      "(1.0, True)\n",
      "(0.39743589743589736, True)\n",
      "(1.0, True)\n",
      "(0.9600000000000001, True)\n",
      "(0.9122807017543859, False)\n",
      "(1.0, True)\n",
      "(0.7547169811320754, True)\n",
      "(0.5679012345679013, False)\n",
      "(1.0, True)\n",
      "(1.0, False)\n",
      "(0.8936170212765957, False)\n",
      "(1.0, True)\n",
      "(0.43333333333333335, True)\n",
      "(0.8085106382978724, True)\n",
      "(1.0, False)\n",
      "(0.8235294117647058, False)\n",
      "(0.8311688311688312, True)\n",
      "(0.653061224489796, True)\n",
      "(0.5465465465465466, False)\n",
      "(0.7307692307692308, True)\n",
      "(1.0, False)\n",
      "(0.923076923076923, False)\n",
      "(0.8513513513513514, True)\n",
      "(0.4719101123595506, True)\n",
      "(0.9230769230769231, True)\n",
      "(1.0, False)\n",
      "(0.721311475409836, False)\n",
      "(1.0, False)\n",
      "(0.8524590163934426, True)\n",
      "(0.6153846153846154, False)\n",
      "(0.830188679245283, False)\n",
      "(1.0, True)\n",
      "(0.8611111111111112, True)\n",
      "(0.7936507936507937, True)\n",
      "(0.33333333333333326, False)\n",
      "(0.967741935483871, False)\n",
      "(1.0, False)\n",
      "(0.8292682926829269, False)\n",
      "(0.6239999999999999, False)\n",
      "(0.7792207792207793, False)\n",
      "(0.8000000000000002, False)\n",
      "(0.9642857142857143, False)\n",
      "(1.0, True)\n",
      "(1.0, False)\n",
      "(1.0, False)\n",
      "(1.0, False)\n",
      "(1.0, False)\n",
      "(0.9803921568627451, False)\n",
      "(0.8450704225352113, True)\n",
      "(0.7727272727272727, True)\n",
      "(0.5, False)\n",
      "(1.0, False)\n",
      "(0.9189189189189189, True)\n",
      "(1.0, False)\n",
      "(0.608695652173913, False)\n",
      "(0.4918032786885245, False)\n",
      "(0.43274853801169594, False)\n",
      "(0.8260869565217391, True)\n",
      "(0.7787610619469026, False)\n",
      "(0.9058823529411766, False)\n",
      "(0.6632390745501285, False)\n",
      "(0.6379310344827587, False)\n",
      "(0.7058823529411765, False)\n",
      "(0.49612403100775193, False)\n",
      "(0.2787456445993031, False)\n",
      "(1.0, False)\n",
      "(0.6040268456375839, True)\n",
      "(0.6185567010309279, False)\n",
      "(0.7309644670050762, True)\n",
      "(0.5670498084291188, False)\n",
      "(1.0, False)\n",
      "(1.0, False)\n",
      "(0.970873786407767, False)\n",
      "(0.7378640776699029, False)\n",
      "(0.40655737704918027, False)\n",
      "(0.3880597014925374, False)\n",
      "(0.8636363636363636, False)\n",
      "(0.7666666666666666, False)\n",
      "(1.0, False)\n",
      "(0.7931034482758621, False)\n",
      "(0.4270833333333333, False)\n",
      "(1.0, True)\n",
      "(0.6271186440677967, False)\n",
      "(0.8717948717948718, True)\n",
      "(1.0, False)\n",
      "(0.888888888888889, False)\n",
      "(0.746031746031746, False)\n",
      "(1.0, True)\n",
      "(1.0, False)\n",
      "(0.5544554455445544, False)\n",
      "(1.0, False)\n",
      "(1.0, False)\n",
      "(1.0, True)\n",
      "(0.7628865979381443, False)\n",
      "(0.5242718446601942, False)\n",
      "(0.7058823529411765, False)\n",
      "(0.888888888888889, False)\n",
      "(1.0, True)\n",
      "(0.6555555555555556, False)\n",
      "(0.68, False)\n",
      "(0.8648648648648648, False)\n",
      "(0.8672566371681416, False)\n",
      "(0.9135802469135803, False)\n",
      "(1.0, True)\n",
      "(0.6446280991735538, False)\n",
      "(0.6774193548387097, False)\n",
      "(0.673469387755102, True)\n",
      "(1.0, False)\n",
      "(1.0, False)\n"
     ]
    }
   ],
   "source": [
    "for t in result:\n",
    "    print(t)"
   ]
  }
 ],
 "metadata": {
  "kernelspec": {
   "display_name": "pyba",
   "language": "python",
   "name": "python3"
  },
  "language_info": {
   "codemirror_mode": {
    "name": "ipython",
    "version": 3
   },
   "file_extension": ".py",
   "mimetype": "text/x-python",
   "name": "python",
   "nbconvert_exporter": "python",
   "pygments_lexer": "ipython3",
   "version": "3.11.7"
  }
 },
 "nbformat": 4,
 "nbformat_minor": 2
}
