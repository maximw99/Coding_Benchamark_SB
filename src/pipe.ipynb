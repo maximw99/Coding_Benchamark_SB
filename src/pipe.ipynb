{
 "cells": [
  {
   "cell_type": "markdown",
   "metadata": {},
   "source": [
    "# Pipe for create embeddings"
   ]
  },
  {
   "cell_type": "markdown",
   "metadata": {},
   "source": [
    "## Imports"
   ]
  },
  {
   "cell_type": "code",
   "execution_count": 1,
   "metadata": {},
   "outputs": [
    {
     "name": "stderr",
     "output_type": "stream",
     "text": [
      "/home/maxim/miniconda3/envs/pyai/lib/python3.11/site-packages/tqdm/auto.py:21: TqdmWarning: IProgress not found. Please update jupyter and ipywidgets. See https://ipywidgets.readthedocs.io/en/stable/user_install.html\n",
      "  from .autonotebook import tqdm as notebook_tqdm\n"
     ]
    },
    {
     "name": "stdout",
     "output_type": "stream",
     "text": [
      "164 72 92\n",
      "HumanEval/1 1426\n",
      "HumanEval/6 1289\n",
      "HumanEval/10 1573\n",
      "HumanEval/17 1549\n",
      "HumanEval/20 1286\n",
      "HumanEval/32 1454\n",
      "HumanEval/38 1927\n",
      "HumanEval/41 1023\n",
      "HumanEval/67 1058\n",
      "HumanEval/73 1282\n",
      "HumanEval/74 1029\n",
      "HumanEval/78 1213\n",
      "HumanEval/81 1483\n",
      "HumanEval/87 1506\n",
      "HumanEval/88 1078\n",
      "HumanEval/89 1541\n",
      "HumanEval/93 1483\n",
      "HumanEval/99 1010\n",
      "HumanEval/105 1225\n",
      "HumanEval/107 1425\n",
      "HumanEval/109 1768\n",
      "HumanEval/110 1597\n",
      "HumanEval/119 1737\n",
      "HumanEval/120 1006\n",
      "HumanEval/123 1580\n",
      "HumanEval/127 1543\n",
      "HumanEval/129 1634\n",
      "HumanEval/130 1006\n",
      "HumanEval/132 1296\n",
      "HumanEval/135 1115\n",
      "HumanEval/137 1041\n",
      "HumanEval/141 1415\n",
      "HumanEval/143 1553\n",
      "HumanEval/149 1250\n",
      "HumanEval/153 1818\n",
      "HumanEval/154 1146\n",
      "HumanEval/159 1145\n",
      "HumanEval/160 1369\n",
      "longest:  HumanEval/38\n"
     ]
    }
   ],
   "source": [
    "import torch\n",
    "from transformers import AutoTokenizer, AutoModel\n",
    "import functions\n",
    "\n",
    "import pandas as pd\n",
    "import numpy as np\n",
    "import seaborn as sns\n",
    "\n",
    "import sklearn.metrics as metrics"
   ]
  },
  {
   "cell_type": "markdown",
   "metadata": {},
   "source": [
    "## Model"
   ]
  },
  {
   "cell_type": "code",
   "execution_count": 2,
   "metadata": {},
   "outputs": [],
   "source": [
    "tokenizer = AutoTokenizer.from_pretrained(\"microsoft/codebert-base\")\n",
    "model = AutoModel.from_pretrained(\"microsoft/codebert-base\")"
   ]
  },
  {
   "cell_type": "markdown",
   "metadata": {},
   "source": [
    "## Data"
   ]
  },
  {
   "cell_type": "code",
   "execution_count": 3,
   "metadata": {},
   "outputs": [],
   "source": [
    "df = pd.read_json(\"Codellama13b-human-eval-1(38).jsonl\", lines=True)"
   ]
  },
  {
   "cell_type": "code",
   "execution_count": 4,
   "metadata": {},
   "outputs": [
    {
     "data": {
      "text/html": [
       "<div>\n",
       "<style scoped>\n",
       "    .dataframe tbody tr th:only-of-type {\n",
       "        vertical-align: middle;\n",
       "    }\n",
       "\n",
       "    .dataframe tbody tr th {\n",
       "        vertical-align: top;\n",
       "    }\n",
       "\n",
       "    .dataframe thead th {\n",
       "        text-align: right;\n",
       "    }\n",
       "</style>\n",
       "<table border=\"1\" class=\"dataframe\">\n",
       "  <thead>\n",
       "    <tr style=\"text-align: right;\">\n",
       "      <th></th>\n",
       "      <th>task_id</th>\n",
       "      <th>completion</th>\n",
       "    </tr>\n",
       "  </thead>\n",
       "  <tbody>\n",
       "    <tr>\n",
       "      <th>0</th>\n",
       "      <td>HumanEval/0</td>\n",
       "      <td>def has_close_elements(numbers: List[float], t...</td>\n",
       "    </tr>\n",
       "    <tr>\n",
       "      <th>1</th>\n",
       "      <td>HumanEval/1</td>\n",
       "      <td>def separate_paren_groups(paren_string: str) -...</td>\n",
       "    </tr>\n",
       "    <tr>\n",
       "      <th>2</th>\n",
       "      <td>HumanEval/2</td>\n",
       "      <td>def truncate_number(number: float) -&gt; float:\\n...</td>\n",
       "    </tr>\n",
       "    <tr>\n",
       "      <th>3</th>\n",
       "      <td>HumanEval/3</td>\n",
       "      <td>def below_zero(operations: List[int]) -&gt; bool:...</td>\n",
       "    </tr>\n",
       "    <tr>\n",
       "      <th>4</th>\n",
       "      <td>HumanEval/4</td>\n",
       "      <td>def mean_absolute_deviation(numbers: List[floa...</td>\n",
       "    </tr>\n",
       "    <tr>\n",
       "      <th>...</th>\n",
       "      <td>...</td>\n",
       "      <td>...</td>\n",
       "    </tr>\n",
       "    <tr>\n",
       "      <th>159</th>\n",
       "      <td>HumanEval/159</td>\n",
       "      <td>def eat(number, need, remaining):\\n    \"\"\"\\n  ...</td>\n",
       "    </tr>\n",
       "    <tr>\n",
       "      <th>160</th>\n",
       "      <td>HumanEval/160</td>\n",
       "      <td>def do_algebra(operator, operand):\\n    \"\"\"\\n ...</td>\n",
       "    </tr>\n",
       "    <tr>\n",
       "      <th>161</th>\n",
       "      <td>HumanEval/161</td>\n",
       "      <td>def solve(s):\\n    \"\"\"You are given a string s...</td>\n",
       "    </tr>\n",
       "    <tr>\n",
       "      <th>162</th>\n",
       "      <td>HumanEval/162</td>\n",
       "      <td>def string_to_md5(text):\\n    if text == '':\\n...</td>\n",
       "    </tr>\n",
       "    <tr>\n",
       "      <th>163</th>\n",
       "      <td>HumanEval/163</td>\n",
       "      <td>def generate_integers(a, b):\\n    \"\"\"\\n    Giv...</td>\n",
       "    </tr>\n",
       "  </tbody>\n",
       "</table>\n",
       "<p>164 rows × 2 columns</p>\n",
       "</div>"
      ],
      "text/plain": [
       "           task_id                                         completion\n",
       "0      HumanEval/0  def has_close_elements(numbers: List[float], t...\n",
       "1      HumanEval/1  def separate_paren_groups(paren_string: str) -...\n",
       "2      HumanEval/2  def truncate_number(number: float) -> float:\\n...\n",
       "3      HumanEval/3  def below_zero(operations: List[int]) -> bool:...\n",
       "4      HumanEval/4  def mean_absolute_deviation(numbers: List[floa...\n",
       "..             ...                                                ...\n",
       "159  HumanEval/159  def eat(number, need, remaining):\\n    \"\"\"\\n  ...\n",
       "160  HumanEval/160  def do_algebra(operator, operand):\\n    \"\"\"\\n ...\n",
       "161  HumanEval/161  def solve(s):\\n    \"\"\"You are given a string s...\n",
       "162  HumanEval/162  def string_to_md5(text):\\n    if text == '':\\n...\n",
       "163  HumanEval/163  def generate_integers(a, b):\\n    \"\"\"\\n    Giv...\n",
       "\n",
       "[164 rows x 2 columns]"
      ]
     },
     "execution_count": 4,
     "metadata": {},
     "output_type": "execute_result"
    }
   ],
   "source": [
    "df"
   ]
  },
  {
   "cell_type": "code",
   "execution_count": 5,
   "metadata": {},
   "outputs": [
    {
     "name": "stdout",
     "output_type": "stream",
     "text": [
      "HumanEval/0\n",
      "HumanEval/1\n",
      "HumanEval/2\n",
      "HumanEval/3\n",
      "HumanEval/4\n",
      "HumanEval/5\n",
      "HumanEval/6\n",
      "HumanEval/7\n",
      "HumanEval/8\n",
      "HumanEval/9\n"
     ]
    },
    {
     "name": "stderr",
     "output_type": "stream",
     "text": [
      "Token indices sequence length is longer than the specified maximum sequence length for this model (608 > 512). Running this sequence through the model will result in indexing errors\n"
     ]
    },
    {
     "name": "stdout",
     "output_type": "stream",
     "text": [
      "HumanEval/10\n",
      "12\n",
      "HumanEval/11\n",
      "HumanEval/12\n",
      "HumanEval/13\n",
      "HumanEval/14\n",
      "HumanEval/15\n",
      "HumanEval/16\n",
      "HumanEval/17\n",
      "12\n",
      "HumanEval/18\n",
      "HumanEval/19\n",
      "HumanEval/20\n",
      "12\n",
      "HumanEval/21\n",
      "HumanEval/22\n",
      "HumanEval/23\n",
      "HumanEval/24\n",
      "HumanEval/25\n",
      "HumanEval/26\n",
      "HumanEval/27\n",
      "HumanEval/28\n",
      "HumanEval/29\n",
      "HumanEval/30\n",
      "HumanEval/31\n",
      "HumanEval/32\n",
      "12\n",
      "HumanEval/33\n",
      "HumanEval/34\n",
      "HumanEval/35\n",
      "HumanEval/36\n",
      "HumanEval/37\n",
      "HumanEval/38\n",
      "12\n",
      "HumanEval/39\n",
      "HumanEval/40\n",
      "HumanEval/41\n",
      "HumanEval/42\n",
      "HumanEval/43\n",
      "HumanEval/44\n",
      "HumanEval/45\n",
      "HumanEval/46\n",
      "HumanEval/47\n",
      "HumanEval/48\n",
      "HumanEval/49\n",
      "HumanEval/50\n",
      "HumanEval/51\n",
      "HumanEval/52\n",
      "HumanEval/53\n",
      "HumanEval/54\n",
      "HumanEval/55\n",
      "HumanEval/56\n",
      "HumanEval/57\n",
      "HumanEval/58\n",
      "HumanEval/59\n",
      "HumanEval/60\n",
      "HumanEval/61\n",
      "HumanEval/62\n",
      "HumanEval/63\n",
      "HumanEval/64\n",
      "HumanEval/65\n",
      "HumanEval/66\n",
      "HumanEval/67\n",
      "HumanEval/68\n",
      "HumanEval/69\n",
      "HumanEval/70\n",
      "HumanEval/71\n",
      "HumanEval/72\n",
      "HumanEval/73\n",
      "HumanEval/74\n",
      "HumanEval/75\n",
      "HumanEval/76\n",
      "HumanEval/77\n",
      "HumanEval/78\n",
      "HumanEval/79\n",
      "HumanEval/80\n",
      "HumanEval/81\n",
      "12\n",
      "HumanEval/82\n",
      "HumanEval/83\n",
      "HumanEval/84\n",
      "HumanEval/85\n",
      "HumanEval/86\n",
      "HumanEval/87\n",
      "12\n",
      "HumanEval/88\n",
      "HumanEval/89\n",
      "12\n",
      "HumanEval/90\n",
      "HumanEval/91\n",
      "HumanEval/92\n",
      "HumanEval/93\n",
      "12\n",
      "HumanEval/94\n",
      "HumanEval/95\n",
      "HumanEval/96\n",
      "HumanEval/97\n",
      "HumanEval/98\n",
      "HumanEval/99\n",
      "HumanEval/100\n",
      "HumanEval/101\n",
      "HumanEval/102\n",
      "HumanEval/103\n",
      "HumanEval/104\n",
      "HumanEval/105\n",
      "HumanEval/106\n",
      "HumanEval/107\n",
      "13\n",
      "HumanEval/108\n",
      "HumanEval/109\n",
      "13\n",
      "HumanEval/110\n",
      "13\n",
      "HumanEval/111\n",
      "HumanEval/112\n",
      "HumanEval/113\n",
      "HumanEval/114\n",
      "HumanEval/115\n",
      "HumanEval/116\n",
      "HumanEval/117\n",
      "HumanEval/118\n",
      "HumanEval/119\n",
      "13\n",
      "HumanEval/120\n",
      "HumanEval/121\n",
      "HumanEval/122\n",
      "HumanEval/123\n",
      "13\n",
      "HumanEval/124\n",
      "HumanEval/125\n",
      "HumanEval/126\n",
      "HumanEval/127\n",
      "13\n",
      "HumanEval/128\n",
      "HumanEval/129\n",
      "13\n",
      "HumanEval/130\n",
      "HumanEval/131\n",
      "HumanEval/132\n",
      "HumanEval/133\n",
      "HumanEval/134\n",
      "HumanEval/135\n",
      "HumanEval/136\n",
      "HumanEval/137\n",
      "HumanEval/138\n",
      "HumanEval/139\n",
      "HumanEval/140\n",
      "HumanEval/141\n",
      "HumanEval/142\n",
      "HumanEval/143\n",
      "13\n",
      "HumanEval/144\n",
      "HumanEval/145\n",
      "HumanEval/146\n",
      "HumanEval/147\n",
      "HumanEval/148\n",
      "HumanEval/149\n",
      "HumanEval/150\n",
      "HumanEval/151\n",
      "HumanEval/152\n",
      "HumanEval/153\n",
      "13\n",
      "HumanEval/154\n",
      "HumanEval/155\n",
      "HumanEval/156\n",
      "HumanEval/157\n",
      "HumanEval/158\n",
      "HumanEval/159\n",
      "HumanEval/160\n",
      "13\n",
      "HumanEval/161\n",
      "HumanEval/162\n",
      "HumanEval/163\n",
      "pass  145 killed:  19\n",
      "HumanEval/163\n",
      "HumanEval/163\n",
      "HumanEval/163\n",
      "HumanEval/163\n",
      "HumanEval/163\n",
      "HumanEval/163\n",
      "HumanEval/163\n",
      "HumanEval/163\n",
      "HumanEval/163\n",
      "HumanEval/163\n",
      "HumanEval/163\n",
      "HumanEval/163\n",
      "HumanEval/163\n",
      "HumanEval/163\n",
      "HumanEval/163\n",
      "HumanEval/163\n",
      "HumanEval/163\n",
      "HumanEval/163\n",
      "HumanEval/163\n"
     ]
    }
   ],
   "source": [
    "functions.deaths(model, tokenizer)"
   ]
  },
  {
   "cell_type": "code",
   "execution_count": 17,
   "metadata": {},
   "outputs": [],
   "source": [
    "sample_1 = df.loc[73][\"completion\"]"
   ]
  },
  {
   "cell_type": "code",
   "execution_count": 18,
   "metadata": {},
   "outputs": [
    {
     "name": "stdout",
     "output_type": "stream",
     "text": [
      "1282\n"
     ]
    }
   ],
   "source": [
    "print(len(sample_1))"
   ]
  },
  {
   "cell_type": "code",
   "execution_count": 19,
   "metadata": {},
   "outputs": [],
   "source": [
    "sample_emb_1 = functions.get_embedding(model, tokenizer, sample_1)"
   ]
  },
  {
   "cell_type": "code",
   "execution_count": 9,
   "metadata": {},
   "outputs": [
    {
     "data": {
      "text/plain": [
       "torch.Size([488, 768])"
      ]
     },
     "execution_count": 9,
     "metadata": {},
     "output_type": "execute_result"
    }
   ],
   "source": [
    "sample_emb_1.size()"
   ]
  },
  {
   "cell_type": "code",
   "execution_count": 11,
   "metadata": {},
   "outputs": [
    {
     "data": {
      "text/plain": [
       "-0.7031788217469791"
      ]
     },
     "execution_count": 11,
     "metadata": {},
     "output_type": "execute_result"
    }
   ],
   "source": [
    "kernel = functions.kernel_entropy(sample_emb_1)\n",
    "kernel"
   ]
  },
  {
   "cell_type": "markdown",
   "metadata": {},
   "source": [
    "## Pipe"
   ]
  },
  {
   "cell_type": "code",
   "execution_count": 9,
   "metadata": {},
   "outputs": [],
   "source": [
    "# emb = functions.get_embedding(model, tokenizer, torch, \"def max(a,b): if a>b: return a else return b\")"
   ]
  },
  {
   "cell_type": "code",
   "execution_count": 10,
   "metadata": {},
   "outputs": [],
   "source": [
    "# emb"
   ]
  }
 ],
 "metadata": {
  "kernelspec": {
   "display_name": "py312",
   "language": "python",
   "name": "python3"
  },
  "language_info": {
   "codemirror_mode": {
    "name": "ipython",
    "version": 3
   },
   "file_extension": ".py",
   "mimetype": "text/x-python",
   "name": "python",
   "nbconvert_exporter": "python",
   "pygments_lexer": "ipython3",
   "version": "3.11.7"
  }
 },
 "nbformat": 4,
 "nbformat_minor": 2
}
