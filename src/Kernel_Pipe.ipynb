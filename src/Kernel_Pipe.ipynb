{
 "cells": [
  {
   "cell_type": "markdown",
   "metadata": {},
   "source": [
    "# Pipe for create embeddings"
   ]
  },
  {
   "cell_type": "markdown",
   "metadata": {},
   "source": [
    "## Imports"
   ]
  },
  {
   "cell_type": "code",
   "execution_count": 1,
   "metadata": {},
   "outputs": [
    {
     "name": "stderr",
     "output_type": "stream",
     "text": [
      "/Users/m99x/miniconda3/envs/pyai/lib/python3.11/site-packages/tqdm/auto.py:21: TqdmWarning: IProgress not found. Please update jupyter and ipywidgets. See https://ipywidgets.readthedocs.io/en/stable/user_install.html\n",
      "  from .autonotebook import tqdm as notebook_tqdm\n"
     ]
    }
   ],
   "source": [
    "import torch\n",
    "from transformers import AutoTokenizer, AutoModel\n",
    "import helper\n",
    "import debug\n",
    "import json\n",
    "\n",
    "import pandas as pd\n",
    "import numpy as np\n",
    "import seaborn as sns\n",
    "import math\n",
    "\n",
    "import sklearn.metrics as metrics\n",
    "from torch.nn.utils.rnn import pad_sequence"
   ]
  },
  {
   "cell_type": "markdown",
   "metadata": {},
   "source": [
    "## Model"
   ]
  },
  {
   "cell_type": "code",
   "execution_count": 2,
   "metadata": {},
   "outputs": [],
   "source": [
    "tokenizer = AutoTokenizer.from_pretrained(\"microsoft/codebert-base\")\n",
    "model = AutoModel.from_pretrained(\"microsoft/codebert-base\")"
   ]
  },
  {
   "cell_type": "markdown",
   "metadata": {},
   "source": [
    "## Data"
   ]
  },
  {
   "cell_type": "code",
   "execution_count": 3,
   "metadata": {},
   "outputs": [],
   "source": [
    "df = pd.read_json(\"results/CLR10.jsonl\", lines=True)\n",
    "big_boys = df.copy()"
   ]
  },
  {
   "cell_type": "code",
   "execution_count": 4,
   "metadata": {
    "editable": true,
    "slideshow": {
     "slide_type": ""
    },
    "tags": []
   },
   "outputs": [],
   "source": [
    "big_boys[\"completion\"] = big_boys[\"completion\"].str.len()\n",
    "big_boys = big_boys[big_boys.completion.astype(int) > 1000]"
   ]
  },
  {
   "cell_type": "code",
   "execution_count": 5,
   "metadata": {},
   "outputs": [
    {
     "data": {
      "text/plain": [
       "(1640, 2)"
      ]
     },
     "execution_count": 5,
     "metadata": {},
     "output_type": "execute_result"
    }
   ],
   "source": [
    "df.shape"
   ]
  },
  {
   "cell_type": "code",
   "execution_count": 3,
   "metadata": {},
   "outputs": [],
   "source": [
    "samples_10 = helper.read_samples('results/CLR10.jsonl')\n",
    "samples_1 = helper.read_samples('results/CLR1.jsonl_results.jsonl')"
   ]
  },
  {
   "cell_type": "markdown",
   "metadata": {},
   "source": [
    "## Get Embeddings"
   ]
  },
  {
   "cell_type": "code",
   "execution_count": 5,
   "metadata": {},
   "outputs": [],
   "source": [
    "blocks = helper.split_into_blocks(samples_10, 10)"
   ]
  },
  {
   "cell_type": "code",
   "execution_count": 6,
   "metadata": {},
   "outputs": [
    {
     "name": "stderr",
     "output_type": "stream",
     "text": [
      "Truncation was not explicitly activated but `max_length` is provided a specific value, please use `truncation=True` to explicitly truncate examples to max length. Defaulting to 'longest_first' truncation strategy. If you encode pairs of sequences (GLUE-style) with the tokenizer you can select this strategy more precisely by providing a specific strategy to `truncation`.\n"
     ]
    },
    {
     "ename": "TypeError",
     "evalue": "expected np.ndarray (got Tensor)",
     "output_type": "error",
     "traceback": [
      "\u001b[0;31m---------------------------------------------------------------------------\u001b[0m",
      "\u001b[0;31mTypeError\u001b[0m                                 Traceback (most recent call last)",
      "Cell \u001b[0;32mIn[6], line 1\u001b[0m\n\u001b[0;32m----> 1\u001b[0m emb_pad \u001b[38;5;241m=\u001b[39m \u001b[43mhelper\u001b[49m\u001b[38;5;241;43m.\u001b[39;49m\u001b[43mform_emb\u001b[49m\u001b[43m(\u001b[49m\u001b[43mblocks\u001b[49m\u001b[43m,\u001b[49m\u001b[43m \u001b[49m\u001b[43mmodel\u001b[49m\u001b[43m,\u001b[49m\u001b[43m \u001b[49m\u001b[43mtokenizer\u001b[49m\u001b[43m,\u001b[49m\u001b[43m \u001b[49m\u001b[38;5;124;43m\"\u001b[39;49m\u001b[38;5;124;43mpad\u001b[39;49m\u001b[38;5;124;43m\"\u001b[39;49m\u001b[43m)\u001b[49m\n",
      "File \u001b[0;32m~/Code/Coding_Benchamark_SB/src/helper.py:141\u001b[0m, in \u001b[0;36mform_emb\u001b[0;34m(blocks, model, tokenizer, mode)\u001b[0m\n\u001b[1;32m    138\u001b[0m     embeddings\u001b[38;5;241m.\u001b[39mappend(embeddings_mean)\n\u001b[1;32m    140\u001b[0m \u001b[38;5;28;01mif\u001b[39;00m mode \u001b[38;5;241m==\u001b[39m \u001b[38;5;124m\"\u001b[39m\u001b[38;5;124mpad\u001b[39m\u001b[38;5;124m\"\u001b[39m:\n\u001b[0;32m--> 141\u001b[0m     seqs \u001b[38;5;241m=\u001b[39m \u001b[43mforce_seq_len\u001b[49m\u001b[43m(\u001b[49m\u001b[43memb_block\u001b[49m\u001b[43m,\u001b[49m\u001b[43m \u001b[49m\u001b[38;5;241;43m512\u001b[39;49m\u001b[43m)\u001b[49m\n\u001b[1;32m    142\u001b[0m     embeddings\u001b[38;5;241m.\u001b[39mappend(seqs)\n\u001b[1;32m    144\u001b[0m \u001b[38;5;28mprint\u001b[39m(l)\n",
      "File \u001b[0;32m~/Code/Coding_Benchamark_SB/src/helper.py:115\u001b[0m, in \u001b[0;36mforce_seq_len\u001b[0;34m(seqs, length)\u001b[0m\n\u001b[1;32m    112\u001b[0m \u001b[38;5;28;01mdef\u001b[39;00m \u001b[38;5;21mforce_seq_len\u001b[39m(seqs, length):\n\u001b[1;32m    113\u001b[0m     \u001b[38;5;66;03m# author = Sebastian G. Gruber\u001b[39;00m\n\u001b[0;32m--> 115\u001b[0m     seqs \u001b[38;5;241m=\u001b[39m \u001b[43m[\u001b[49m\u001b[43mtorch\u001b[49m\u001b[38;5;241;43m.\u001b[39;49m\u001b[43mfrom_numpy\u001b[49m\u001b[43m(\u001b[49m\u001b[43mseq\u001b[49m\u001b[43m)\u001b[49m\u001b[43m \u001b[49m\u001b[38;5;28;43;01mfor\u001b[39;49;00m\u001b[43m \u001b[49m\u001b[43mseq\u001b[49m\u001b[43m \u001b[49m\u001b[38;5;129;43;01min\u001b[39;49;00m\u001b[43m \u001b[49m\u001b[43mseqs\u001b[49m\u001b[43m]\u001b[49m\n\u001b[1;32m    116\u001b[0m     dummy_seq \u001b[38;5;241m=\u001b[39m [torch\u001b[38;5;241m.\u001b[39mzeros((length,))]\n\u001b[1;32m    117\u001b[0m     all_seqs \u001b[38;5;241m=\u001b[39m pad_sequence(dummy_seq \u001b[38;5;241m+\u001b[39m seqs)\n",
      "File \u001b[0;32m~/Code/Coding_Benchamark_SB/src/helper.py:115\u001b[0m, in \u001b[0;36m<listcomp>\u001b[0;34m(.0)\u001b[0m\n\u001b[1;32m    112\u001b[0m \u001b[38;5;28;01mdef\u001b[39;00m \u001b[38;5;21mforce_seq_len\u001b[39m(seqs, length):\n\u001b[1;32m    113\u001b[0m     \u001b[38;5;66;03m# author = Sebastian G. Gruber\u001b[39;00m\n\u001b[0;32m--> 115\u001b[0m     seqs \u001b[38;5;241m=\u001b[39m [\u001b[43mtorch\u001b[49m\u001b[38;5;241;43m.\u001b[39;49m\u001b[43mfrom_numpy\u001b[49m\u001b[43m(\u001b[49m\u001b[43mseq\u001b[49m\u001b[43m)\u001b[49m \u001b[38;5;28;01mfor\u001b[39;00m seq \u001b[38;5;129;01min\u001b[39;00m seqs]\n\u001b[1;32m    116\u001b[0m     dummy_seq \u001b[38;5;241m=\u001b[39m [torch\u001b[38;5;241m.\u001b[39mzeros((length,))]\n\u001b[1;32m    117\u001b[0m     all_seqs \u001b[38;5;241m=\u001b[39m pad_sequence(dummy_seq \u001b[38;5;241m+\u001b[39m seqs)\n",
      "\u001b[0;31mTypeError\u001b[0m: expected np.ndarray (got Tensor)"
     ]
    }
   ],
   "source": [
    "emb_pad = helper.form_emb(blocks, model, tokenizer, \"pad\")"
   ]
  },
  {
   "cell_type": "code",
   "execution_count": null,
   "metadata": {},
   "outputs": [],
   "source": []
  },
  {
   "cell_type": "code",
   "execution_count": 4,
   "metadata": {},
   "outputs": [],
   "source": [
    "emb_mean = helper.read_embeddings(\"bert_emb.jsonl\")"
   ]
  },
  {
   "cell_type": "markdown",
   "metadata": {},
   "source": [
    "## Pipe"
   ]
  },
  {
   "cell_type": "code",
   "execution_count": 12,
   "metadata": {},
   "outputs": [],
   "source": [
    "kernel_entropy_values = helper.get_entropies_rbf(emb)"
   ]
  },
  {
   "cell_type": "code",
   "execution_count": 13,
   "metadata": {},
   "outputs": [
    {
     "data": {
      "text/plain": [
       "[-1.9950682450138693,\n",
       " -2.0144155449129757,\n",
       " -2.0077029536845803,\n",
       " -2.074465923161821,\n",
       " -1.915913419605499,\n",
       " -2.0076395911559426,\n",
       " -1.812191007422799,\n",
       " -1.9846798583990086,\n",
       " -2.026638581599241,\n",
       " -2.0295814852834506,\n",
       " -1.9933336417901064,\n",
       " -1.870360911420635,\n",
       " -1.9789821102689256,\n",
       " -2.058458895474496,\n",
       " -2.0077087595730077,\n",
       " -1.9959996767255848,\n",
       " -1.9867403430738737,\n",
       " -1.9109460521071406,\n",
       " -1.9995485174856646,\n",
       " -1.9098062493708063,\n",
       " -1.9345736694541595,\n",
       " -1.8855601262964534,\n",
       " -1.9923696528366635,\n",
       " -2.010116594773857,\n",
       " -1.9632306345773123,\n",
       " -2.05459597879119,\n",
       " -2.0361128173727,\n",
       " -1.97271416134572,\n",
       " -1.9723297192749663,\n",
       " -1.9877621257497846,\n",
       " -2.0005912904816205,\n",
       " -2.0951032614470226,\n",
       " -1.9804816109159957,\n",
       " -2.0026303005478083,\n",
       " -2.039662196924724,\n",
       " -2.0720435221750413,\n",
       " -2.09201835295013,\n",
       " -2.0422678862119668,\n",
       " -1.9853996497318456,\n",
       " -1.9568654684002607,\n",
       " -2.0127755473819025,\n",
       " -2.0008534893627723,\n",
       " -2.0101718810318894,\n",
       " -1.9533153272244297,\n",
       " -2.031628662050735,\n",
       " -2.118094151671981,\n",
       " -1.9218401403329162,\n",
       " -2.0109836049129606,\n",
       " -2.017769572509784,\n",
       " -2.0078460998268213,\n",
       " -1.9471565889352322,\n",
       " -2.061559637606197,\n",
       " -1.9913997070263008,\n",
       " -1.9769583366555685,\n",
       " -1.9424088730750826,\n",
       " -2.0846132358381375,\n",
       " -2.034005241788639,\n",
       " -1.9834789824070036,\n",
       " -2.0126292756013675,\n",
       " -2.1494978422174595,\n",
       " -2.0696909369595407,\n",
       " -1.9489073299645807,\n",
       " -2.0417680383660315,\n",
       " -1.9242084421335173,\n",
       " -2.0719669904893445,\n",
       " -2.035543833772508,\n",
       " -2.0720295437376217,\n",
       " -2.004356747449291,\n",
       " -2.0246243904224834,\n",
       " -1.9365665398286018,\n",
       " -1.9795078126827084,\n",
       " -2.0442923470003653,\n",
       " -2.019701924988216,\n",
       " -1.987519507515074,\n",
       " -1.9864443145032902,\n",
       " -2.0455846640790183,\n",
       " -2.0472579647622084,\n",
       " -2.035963127888094,\n",
       " -2.045458348372837,\n",
       " -2.0517495086528834,\n",
       " -2.0191505852506757,\n",
       " -1.8944233637487558,\n",
       " -2.028134983426233,\n",
       " -2.0773243779658457,\n",
       " -2.0492994125037125,\n",
       " -2.0675834014536285,\n",
       " -2.046775174426827,\n",
       " -1.9937398552815018,\n",
       " -2.007873933987068,\n",
       " -2.0367013304567076,\n",
       " -2.0369749298730566,\n",
       " -2.0849545774244302,\n",
       " -2.0111272971243173,\n",
       " -1.9714278796611413,\n",
       " -2.024403065772539,\n",
       " -1.972909407152049,\n",
       " -2.0741969841192525,\n",
       " -2.0628855185535153,\n",
       " -2.0817543280450863,\n",
       " -2.0469661186074757,\n",
       " -2.0787476451472955,\n",
       " -1.9523508768907152,\n",
       " -2.0257629453641397,\n",
       " -2.1106280261144597,\n",
       " -1.993508409486827,\n",
       " -1.9901103212633338,\n",
       " -2.094732934680167,\n",
       " -2.032420754880829,\n",
       " -2.081280001198933,\n",
       " -2.0456596767287425,\n",
       " -1.9960361190650917,\n",
       " -2.010740447572432,\n",
       " -2.0876109492834627,\n",
       " -2.0272920546510664,\n",
       " -2.0271670402220945,\n",
       " -1.9490939332189035,\n",
       " -2.0249445458690345,\n",
       " -2.0121409239894543,\n",
       " -1.9657392106485811,\n",
       " -1.900908800373372,\n",
       " -1.9766815716388326,\n",
       " -2.0719169515447717,\n",
       " -1.9304406546069872,\n",
       " -2.0336290263448977,\n",
       " -1.9301615509384327,\n",
       " -2.055142846890793,\n",
       " -2.0461208178611168,\n",
       " -2.014442287257883,\n",
       " -2.0269721401740863,\n",
       " -1.8996544278557996,\n",
       " -2.0236196437616747,\n",
       " -2.1140940375171846,\n",
       " -2.003686025293468,\n",
       " -2.0354004266450527,\n",
       " -2.041949178003149,\n",
       " -2.0565106040513457,\n",
       " -1.8803270143624486,\n",
       " -1.9822040258310627,\n",
       " -2.0727527214762427,\n",
       " -2.085040309647818,\n",
       " -2.053926815135675,\n",
       " -1.9563990780081455,\n",
       " -2.0219005409294986,\n",
       " -2.0023968757160233,\n",
       " -2.014050667376094,\n",
       " -2.046622175639702,\n",
       " -2.051599082058841,\n",
       " -2.003873035376233,\n",
       " -1.989999802080595,\n",
       " -1.9376446018844562,\n",
       " -2.107372950377234,\n",
       " -2.0537195777456154,\n",
       " -2.014390960196342,\n",
       " -1.9003218309150816,\n",
       " -2.0122671669845116,\n",
       " -2.060469025562744,\n",
       " -1.97098123148632,\n",
       " -2.024330125193498,\n",
       " -1.9470427349986075,\n",
       " -2.0437456212445415,\n",
       " -1.948152271614155,\n",
       " -2.02215060533817,\n",
       " -2.036008979346162,\n",
       " -2.02376821474825]"
      ]
     },
     "execution_count": 13,
     "metadata": {},
     "output_type": "execute_result"
    }
   ],
   "source": [
    "kernel_entropy_values"
   ]
  },
  {
   "cell_type": "code",
   "execution_count": 14,
   "metadata": {},
   "outputs": [
    {
     "data": {
      "text/plain": [
       "[1.9950682450138693,\n",
       " 2.0144155449129757,\n",
       " 2.0077029536845803,\n",
       " 2.074465923161821,\n",
       " 1.915913419605499,\n",
       " 2.0076395911559426,\n",
       " 1.812191007422799,\n",
       " 1.9846798583990086,\n",
       " 2.026638581599241,\n",
       " 2.0295814852834506,\n",
       " 1.9933336417901064,\n",
       " 1.870360911420635,\n",
       " 1.9789821102689256,\n",
       " 2.058458895474496,\n",
       " 2.0077087595730077,\n",
       " 1.9959996767255848,\n",
       " 1.9867403430738737,\n",
       " 1.9109460521071406,\n",
       " 1.9995485174856646,\n",
       " 1.9098062493708063,\n",
       " 1.9345736694541595,\n",
       " 1.8855601262964534,\n",
       " 1.9923696528366635,\n",
       " 2.010116594773857,\n",
       " 1.9632306345773123,\n",
       " 2.05459597879119,\n",
       " 2.0361128173727,\n",
       " 1.97271416134572,\n",
       " 1.9723297192749663,\n",
       " 1.9877621257497846,\n",
       " 2.0005912904816205,\n",
       " 2.0951032614470226,\n",
       " 1.9804816109159957,\n",
       " 2.0026303005478083,\n",
       " 2.039662196924724,\n",
       " 2.0720435221750413,\n",
       " 2.09201835295013,\n",
       " 2.0422678862119668,\n",
       " 1.9853996497318456,\n",
       " 1.9568654684002607,\n",
       " 2.0127755473819025,\n",
       " 2.0008534893627723,\n",
       " 2.0101718810318894,\n",
       " 1.9533153272244297,\n",
       " 2.031628662050735,\n",
       " 2.118094151671981,\n",
       " 1.9218401403329162,\n",
       " 2.0109836049129606,\n",
       " 2.017769572509784,\n",
       " 2.0078460998268213,\n",
       " 1.9471565889352322,\n",
       " 2.061559637606197,\n",
       " 1.9913997070263008,\n",
       " 1.9769583366555685,\n",
       " 1.9424088730750826,\n",
       " 2.0846132358381375,\n",
       " 2.034005241788639,\n",
       " 1.9834789824070036,\n",
       " 2.0126292756013675,\n",
       " 2.1494978422174595,\n",
       " 2.0696909369595407,\n",
       " 1.9489073299645807,\n",
       " 2.0417680383660315,\n",
       " 1.9242084421335173,\n",
       " 2.0719669904893445,\n",
       " 2.035543833772508,\n",
       " 2.0720295437376217,\n",
       " 2.004356747449291,\n",
       " 2.0246243904224834,\n",
       " 1.9365665398286018,\n",
       " 1.9795078126827084,\n",
       " 2.0442923470003653,\n",
       " 2.019701924988216,\n",
       " 1.987519507515074,\n",
       " 1.9864443145032902,\n",
       " 2.0455846640790183,\n",
       " 2.0472579647622084,\n",
       " 2.035963127888094,\n",
       " 2.045458348372837,\n",
       " 2.0517495086528834,\n",
       " 2.0191505852506757,\n",
       " 1.8944233637487558,\n",
       " 2.028134983426233,\n",
       " 2.0773243779658457,\n",
       " 2.0492994125037125,\n",
       " 2.0675834014536285,\n",
       " 2.046775174426827,\n",
       " 1.9937398552815018,\n",
       " 2.007873933987068,\n",
       " 2.0367013304567076,\n",
       " 2.0369749298730566,\n",
       " 2.0849545774244302,\n",
       " 2.0111272971243173,\n",
       " 1.9714278796611413,\n",
       " 2.024403065772539,\n",
       " 1.972909407152049,\n",
       " 2.0741969841192525,\n",
       " 2.0628855185535153,\n",
       " 2.0817543280450863,\n",
       " 2.0469661186074757,\n",
       " 2.0787476451472955,\n",
       " 1.9523508768907152,\n",
       " 2.0257629453641397,\n",
       " 2.1106280261144597,\n",
       " 1.993508409486827,\n",
       " 1.9901103212633338,\n",
       " 2.094732934680167,\n",
       " 2.032420754880829,\n",
       " 2.081280001198933,\n",
       " 2.0456596767287425,\n",
       " 1.9960361190650917,\n",
       " 2.010740447572432,\n",
       " 2.0876109492834627,\n",
       " 2.0272920546510664,\n",
       " 2.0271670402220945,\n",
       " 1.9490939332189035,\n",
       " 2.0249445458690345,\n",
       " 2.0121409239894543,\n",
       " 1.9657392106485811,\n",
       " 1.900908800373372,\n",
       " 1.9766815716388326,\n",
       " 2.0719169515447717,\n",
       " 1.9304406546069872,\n",
       " 2.0336290263448977,\n",
       " 1.9301615509384327,\n",
       " 2.055142846890793,\n",
       " 2.0461208178611168,\n",
       " 2.014442287257883,\n",
       " 2.0269721401740863,\n",
       " 1.8996544278557996,\n",
       " 2.0236196437616747,\n",
       " 2.1140940375171846,\n",
       " 2.003686025293468,\n",
       " 2.0354004266450527,\n",
       " 2.041949178003149,\n",
       " 2.0565106040513457,\n",
       " 1.8803270143624486,\n",
       " 1.9822040258310627,\n",
       " 2.0727527214762427,\n",
       " 2.085040309647818,\n",
       " 2.053926815135675,\n",
       " 1.9563990780081455,\n",
       " 2.0219005409294986,\n",
       " 2.0023968757160233,\n",
       " 2.014050667376094,\n",
       " 2.046622175639702,\n",
       " 2.051599082058841,\n",
       " 2.003873035376233,\n",
       " 1.989999802080595,\n",
       " 1.9376446018844562,\n",
       " 2.107372950377234,\n",
       " 2.0537195777456154,\n",
       " 2.014390960196342,\n",
       " 1.9003218309150816,\n",
       " 2.0122671669845116,\n",
       " 2.060469025562744,\n",
       " 1.97098123148632,\n",
       " 2.024330125193498,\n",
       " 1.9470427349986075,\n",
       " 2.0437456212445415,\n",
       " 1.948152271614155,\n",
       " 2.02215060533817,\n",
       " 2.036008979346162,\n",
       " 2.02376821474825]"
      ]
     },
     "execution_count": 14,
     "metadata": {},
     "output_type": "execute_result"
    }
   ],
   "source": [
    "kernel_entropy_values_flipped = []\n",
    "for i in kernel_entropy_values:\n",
    "    kernel_entropy_values_flipped.append(abs(i))\n",
    "kernel_entropy_values_flipped"
   ]
  },
  {
   "cell_type": "code",
   "execution_count": 15,
   "metadata": {},
   "outputs": [],
   "source": [
    "is_prediction_correct = helper.get_pass(samples_1)"
   ]
  },
  {
   "cell_type": "code",
   "execution_count": 16,
   "metadata": {},
   "outputs": [],
   "source": [
    "kent_auroc = metrics.roc_auc_score(\n",
    "    is_prediction_correct,\n",
    "    kernel_entropy_values_flipped\n",
    ")"
   ]
  },
  {
   "cell_type": "code",
   "execution_count": 17,
   "metadata": {},
   "outputs": [
    {
     "data": {
      "text/plain": [
       "0.5124332570556827"
      ]
     },
     "execution_count": 17,
     "metadata": {},
     "output_type": "execute_result"
    }
   ],
   "source": [
    "kent_auroc"
   ]
  },
  {
   "cell_type": "code",
   "execution_count": 13,
   "metadata": {},
   "outputs": [],
   "source": [
    "res = helper.compare_results(kernel_entropy_values_flipped, is_prediction_correct)"
   ]
  },
  {
   "cell_type": "code",
   "execution_count": 14,
   "metadata": {},
   "outputs": [
    {
     "name": "stdout",
     "output_type": "stream",
     "text": [
      "164\n"
     ]
    }
   ],
   "source": [
    "print(len(res))"
   ]
  },
  {
   "cell_type": "code",
   "execution_count": 15,
   "metadata": {},
   "outputs": [
    {
     "name": "stdout",
     "output_type": "stream",
     "text": [
      "(0.9906867133246527, False)\n",
      "(0.9682647705078125, False)\n",
      "(0.9707090589735243, True)\n",
      "(0.9903168572319878, True)\n",
      "(0.9212972852918837, True)\n",
      "(0.9754938761393229, True)\n",
      "(0.869362301296658, False)\n",
      "(0.9773200141059027, True)\n",
      "(0.9749673631456163, True)\n",
      "(0.9839932759602864, True)\n",
      "(0.9735575358072917, False)\n",
      "(0.9128739251030816, False)\n",
      "(0.9762363857693143, True)\n",
      "(0.9879859076605902, True)\n",
      "(0.9941034952799479, True)\n",
      "(0.9768653869628906, True)\n",
      "(0.9672409057617187, True)\n",
      "(0.9234320746527778, False)\n",
      "(0.9815115186903212, True)\n",
      "(0.9100140889485677, False)\n",
      "(0.9689888848198784, False)\n",
      "(0.9166670905219184, True)\n",
      "(0.9953699747721354, True)\n",
      "(0.9807843526204427, True)\n",
      "(0.9145840115017361, True)\n",
      "(0.9767080518934462, True)\n",
      "(0.9756429884168837, False)\n",
      "(0.9758702596028646, True)\n",
      "(0.978177981906467, True)\n",
      "(0.9874637179904514, True)\n",
      "(0.9849557664659289, True)\n",
      "(0.9841891818576389, True)\n",
      "(0.9680437723795573, False)\n",
      "(0.9768463982476129, False)\n",
      "(0.9884674919976129, True)\n",
      "(0.9680828518337674, True)\n",
      "(0.9915179782443576, False)\n",
      "(0.9796989440917969, False)\n",
      "(0.98987791273329, False)\n",
      "(0.9239468044704862, False)\n",
      "(0.9937407599555121, True)\n",
      "(0.9645234849717882, False)\n",
      "(0.9710443284776475, True)\n",
      "(0.9281242370605469, True)\n",
      "(0.9771308898925781, False)\n",
      "(0.9937500847710503, True)\n",
      "(0.9179361131456163, True)\n",
      "(0.9755149841308594, True)\n",
      "(0.9672793070475261, False)\n",
      "(0.9690717061360677, True)\n",
      "(0.920430925157335, False)\n",
      "(0.9832124498155382, True)\n",
      "(0.972799089219835, True)\n",
      "(0.959942118326823, True)\n",
      "(0.9611418830023871, False)\n",
      "(0.9843038770887587, True)\n",
      "(0.9771074930826823, True)\n",
      "(0.9649113125271267, True)\n",
      "(0.9760130988226996, True)\n",
      "(0.9914943271213108, False)\n",
      "(0.9805488586425781, True)\n",
      "(0.9169990539550781, True)\n",
      "(0.9797518412272136, False)\n",
      "(0.92332763671875, True)\n",
      "(0.9787874857584635, False)\n",
      "(0.9701764424641927, False)\n",
      "(0.9901073879665798, True)\n",
      "(0.9649634467230903, True)\n",
      "(0.9883860270182292, True)\n",
      "(0.9213834974500869, False)\n",
      "(0.9593247307671441, False)\n",
      "(0.9867494371202257, True)\n",
      "(0.9633882310655382, True)\n",
      "(0.9843518575032552, False)\n",
      "(0.9744814554850261, True)\n",
      "(0.9717059665256076, False)\n",
      "(0.963759019639757, False)\n",
      "(0.9658313327365451, True)\n",
      "(0.9804061889648438, True)\n",
      "(0.9806838141547309, True)\n",
      "(0.9788122389051649, False)\n",
      "(0.9579359266493056, False)\n",
      "(0.9834737141927083, False)\n",
      "(0.9814098782009548, True)\n",
      "(0.968660651312934, False)\n",
      "(0.9877015855577257, False)\n",
      "(0.9759824117024739, True)\n",
      "(0.9779839409722222, True)\n",
      "(0.9864027235243056, True)\n",
      "(0.9562071906195746, False)\n",
      "(0.987981669108073, False)\n",
      "(0.9869927300347222, False)\n",
      "(0.9790817260742187, False)\n",
      "(0.9481420728895399, False)\n",
      "(0.9737232632107204, False)\n",
      "(0.9746632893880208, False)\n",
      "(0.9825270758734809, False)\n",
      "(0.9797728644476996, True)\n",
      "(0.9905730353461372, False)\n",
      "(0.9729274325900608, False)\n",
      "(0.9887053595648871, False)\n",
      "(0.9209643893771702, False)\n",
      "(0.9709019978841146, False)\n",
      "(0.9891265021430121, True)\n",
      "(0.9574328104654948, True)\n",
      "(0.9717599656846788, False)\n",
      "(0.9894674513075087, False)\n",
      "(0.988588629828559, True)\n",
      "(0.9781151665581598, False)\n",
      "(0.9865711636013454, False)\n",
      "(0.9783401489257812, False)\n",
      "(0.9712921990288629, False)\n",
      "(0.9823543972439236, True)\n",
      "(0.9819731818305122, False)\n",
      "(0.9768475850423177, False)\n",
      "(0.9375457763671875, False)\n",
      "(0.9771802266438802, False)\n",
      "(0.9700748867458767, False)\n",
      "(0.9737952338324652, False)\n",
      "(0.9146844651963976, False)\n",
      "(0.952821773952908, False)\n",
      "(0.9834454854329427, True)\n",
      "(0.9150687323676215, False)\n",
      "(0.9891164991590712, True)\n",
      "(0.9867135789659288, False)\n",
      "(0.9777047051323785, False)\n",
      "(0.9857822842068142, False)\n",
      "(0.9818650139702692, False)\n",
      "(0.9759601169162326, False)\n",
      "(0.9219224717881944, False)\n",
      "(0.981119876437717, False)\n",
      "(0.9861282348632813, False)\n",
      "(0.9760667588975694, False)\n",
      "(0.9734414842393663, False)\n",
      "(0.9795352511935764, False)\n",
      "(0.9782190958658854, False)\n",
      "(0.9138164944118924, True)\n",
      "(0.9725613064236112, False)\n",
      "(0.9858452690972223, True)\n",
      "(0.9869316948784722, False)\n",
      "(0.9751995510525173, False)\n",
      "(0.9776763916015625, False)\n",
      "(0.9856383429633246, True)\n",
      "(0.9748185051812066, False)\n",
      "(0.9677424960666232, False)\n",
      "(0.9759247673882379, False)\n",
      "(0.976773918999566, False)\n",
      "(0.9731601291232639, True)\n",
      "(0.968595208062066, False)\n",
      "(0.9128067016601562, False)\n",
      "(0.9816719902886285, False)\n",
      "(0.9738397386338976, False)\n",
      "(0.9738349914550781, True)\n",
      "(0.9239122178819444, False)\n",
      "(0.956036122639974, False)\n",
      "(0.9860440572102864, False)\n",
      "(0.9792048984103733, False)\n",
      "(0.9800905015733506, False)\n",
      "(0.9100348578559028, True)\n",
      "(0.9766270955403645, False)\n",
      "(0.9775243123372396, False)\n",
      "(0.9769605000813802, True)\n",
      "(0.9786330329047309, False)\n",
      "(0.9819670783148872, False)\n"
     ]
    }
   ],
   "source": [
    "for t in res:\n",
    "    print(t)"
   ]
  },
  {
   "cell_type": "markdown",
   "metadata": {
    "jp-MarkdownHeadingCollapsed": true
   },
   "source": [
    "## Debug"
   ]
  },
  {
   "cell_type": "code",
   "execution_count": 5,
   "metadata": {},
   "outputs": [],
   "source": [
    "data = []\n",
    "with open('CLR10.jsonl') as f:\n",
    "    for line in f:\n",
    "        data.append(json.loads(line))"
   ]
  },
  {
   "cell_type": "code",
   "execution_count": 7,
   "metadata": {},
   "outputs": [
    {
     "data": {
      "text/plain": [
       "'HumanEval/1'"
      ]
     },
     "execution_count": 7,
     "metadata": {},
     "output_type": "execute_result"
    }
   ],
   "source": [
    "data[10][\"task_id\"]"
   ]
  },
  {
   "cell_type": "code",
   "execution_count": 80,
   "metadata": {},
   "outputs": [
    {
     "name": "stdout",
     "output_type": "stream",
     "text": [
      "10\n"
     ]
    }
   ],
   "source": [
    "print(len(block_0))"
   ]
  },
  {
   "cell_type": "code",
   "execution_count": 109,
   "metadata": {},
   "outputs": [],
   "source": [
    "def form_emb(data):\n",
    "    embeddings = []\n",
    "    for line in data:\n",
    "        print(line[\"task_id\"])\n",
    "        try:\n",
    "            embedding = functions.get_embedding(model, tokenizer, line[\"completion\"])\n",
    "            fix = embedding.detach()\n",
    "            embeddings.append(fix)\n",
    "        except:\n",
    "            continue\n",
    "            \n",
    "    return embeddings"
   ]
  },
  {
   "cell_type": "code",
   "execution_count": 110,
   "metadata": {},
   "outputs": [
    {
     "name": "stdout",
     "output_type": "stream",
     "text": [
      "HumanEval/2\n",
      "HumanEval/2\n",
      "HumanEval/2\n",
      "HumanEval/2\n",
      "HumanEval/2\n",
      "HumanEval/2\n",
      "HumanEval/2\n",
      "HumanEval/2\n",
      "HumanEval/2\n",
      "HumanEval/2\n"
     ]
    }
   ],
   "source": [
    "block_emb = form_emb(block_0)"
   ]
  },
  {
   "cell_type": "code",
   "execution_count": null,
   "metadata": {},
   "outputs": [],
   "source": [
    "sample0_emb = functions.get_embedding(model, tokenizer, sample0)\n",
    "sample1_emb = functions.get_embedding(model, tokenizer, sample1)\n",
    "sample2_emb = functions.get_embedding(model, tokenizer, sample2)\n",
    "sample3_emb = functions.get_embedding(model, tokenizer, sample3)\n",
    "sample4_emb = functions.get_embedding(model, tokenizer, sample4)\n",
    "sample5_emb = functions.get_embedding(model, tokenizer, sample5)\n",
    "sample6_emb = functions.get_embedding(model, tokenizer, sample6)\n",
    "sample7_emb = functions.get_embedding(model, tokenizer, sample7)\n",
    "sample8_emb = functions.get_embedding(model, tokenizer, sample8)\n",
    "sample9_emb = functions.get_embedding(model, tokenizer, sample9)\n",
    "\n",
    "\n",
    "embedding_room_detach = [sample0_emb[0].detach(), sample1_emb[0].detach(), sample2_emb[0].detach(), sample3_emb[0].detach(), sample4_emb[0].detach(), sample5_emb[0].detach(), sample6_emb[0].detach(), sample7_emb[0].detach(), sample8_emb[0].detach(), sample9_emb[0].detach()]\n",
    "embedding_room_0 = [sample0_emb[0], sample1_emb[0], sample2_emb[0], sample3_emb[0], sample4_emb[0], sample5_emb[0], sample6_emb[0], sample7_emb[0], sample8_emb[0], sample9_emb[0]]\n",
    "embedding_room_1 = [sample0_emb, sample1_emb, sample2_emb, sample3_emb, sample4_emb, sample5_emb, sample6_emb, sample7_emb, sample8_emb, sample9_emb]\n",
    "\n",
    "\n",
    "\n",
    "embeddings = [i.mean(0).detach().numpy() for i in embedding_room_1]\n",
    "embeddings = np.array(embeddings)\n",
    "\n",
    "embeddings_nomean = [i.mean(0).detach().numpy() for i in embedding_room_1]\n",
    "embeddings_nomean = np.array(embeddings)"
   ]
  }
 ],
 "metadata": {
  "kernelspec": {
   "display_name": "Python 3 (ipykernel)",
   "language": "python",
   "name": "python3"
  },
  "language_info": {
   "codemirror_mode": {
    "name": "ipython",
    "version": 3
   },
   "file_extension": ".py",
   "mimetype": "text/x-python",
   "name": "python",
   "nbconvert_exporter": "python",
   "pygments_lexer": "ipython3",
   "version": "3.11.7"
  }
 },
 "nbformat": 4,
 "nbformat_minor": 4
}
