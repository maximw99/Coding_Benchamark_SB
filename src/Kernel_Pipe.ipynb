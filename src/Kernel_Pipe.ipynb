{
 "cells": [
  {
   "cell_type": "markdown",
   "metadata": {},
   "source": [
    "# Pipe for create embeddings"
   ]
  },
  {
   "cell_type": "markdown",
   "metadata": {},
   "source": [
    "## Imports"
   ]
  },
  {
   "cell_type": "code",
   "execution_count": 1,
   "metadata": {},
   "outputs": [],
   "source": [
    "import torch\n",
    "from transformers import AutoTokenizer, AutoModel\n",
    "import helper\n",
    "import debug\n",
    "import json\n",
    "\n",
    "import pandas as pd\n",
    "import numpy as np\n",
    "import seaborn as sns\n",
    "import math\n",
    "\n",
    "import sklearn.metrics as metrics"
   ]
  },
  {
   "cell_type": "markdown",
   "metadata": {},
   "source": [
    "## Model"
   ]
  },
  {
   "cell_type": "code",
   "execution_count": 2,
   "metadata": {},
   "outputs": [],
   "source": [
    "tokenizer = AutoTokenizer.from_pretrained(\"microsoft/codebert-base\")\n",
    "model = AutoModel.from_pretrained(\"microsoft/codebert-base\")"
   ]
  },
  {
   "cell_type": "markdown",
   "metadata": {},
   "source": [
    "## Data"
   ]
  },
  {
   "cell_type": "code",
   "execution_count": 3,
   "metadata": {},
   "outputs": [],
   "source": [
    "df = pd.read_json(\"results/CLR10.jsonl\", lines=True)\n",
    "big_boys = df.copy()"
   ]
  },
  {
   "cell_type": "code",
   "execution_count": 4,
   "metadata": {
    "editable": true,
    "slideshow": {
     "slide_type": ""
    },
    "tags": []
   },
   "outputs": [],
   "source": [
    "big_boys[\"completion\"] = big_boys[\"completion\"].str.len()\n",
    "big_boys = big_boys[big_boys.completion.astype(int) > 1000]"
   ]
  },
  {
   "cell_type": "code",
   "execution_count": 5,
   "metadata": {},
   "outputs": [
    {
     "data": {
      "text/plain": [
       "(1640, 2)"
      ]
     },
     "execution_count": 5,
     "metadata": {},
     "output_type": "execute_result"
    }
   ],
   "source": [
    "df.shape"
   ]
  },
  {
   "cell_type": "code",
   "execution_count": 6,
   "metadata": {},
   "outputs": [],
   "source": [
    "samples_10 = helper.read_samples('results/CLR10.jsonl')\n",
    "samples_1 = helper.read_samples('results/CLR1.jsonl_results.jsonl')"
   ]
  },
  {
   "cell_type": "markdown",
   "metadata": {},
   "source": [
    "## Get Embeddings"
   ]
  },
  {
   "cell_type": "code",
   "execution_count": 7,
   "metadata": {},
   "outputs": [
    {
     "data": {
      "text/plain": [
       "164"
      ]
     },
     "execution_count": 7,
     "metadata": {},
     "output_type": "execute_result"
    }
   ],
   "source": [
    "blocks_10 = helper.split_into_blocks(samples_10, 10)\n",
    "len(blocks_10)"
   ]
  },
  {
   "cell_type": "code",
   "execution_count": 8,
   "metadata": {},
   "outputs": [
    {
     "name": "stderr",
     "output_type": "stream",
     "text": [
      "Truncation was not explicitly activated but `max_length` is provided a specific value, please use `truncation=True` to explicitly truncate examples to max length. Defaulting to 'longest_first' truncation strategy. If you encode pairs of sequences (GLUE-style) with the tokenizer you can select this strategy more precisely by providing a specific strategy to `truncation`.\n"
     ]
    },
    {
     "name": "stdout",
     "output_type": "stream",
     "text": [
      "0\n",
      "1\n",
      "2\n",
      "3\n",
      "4\n",
      "5\n",
      "6\n",
      "7\n",
      "8\n",
      "9\n",
      "10\n",
      "11\n",
      "12\n",
      "13\n",
      "14\n",
      "15\n",
      "16\n",
      "17\n",
      "18\n",
      "19\n",
      "20\n",
      "21\n",
      "22\n",
      "23\n",
      "24\n",
      "25\n",
      "26\n",
      "27\n",
      "28\n",
      "29\n",
      "30\n",
      "31\n",
      "32\n",
      "33\n",
      "34\n",
      "35\n",
      "36\n",
      "37\n",
      "38\n",
      "39\n",
      "40\n",
      "41\n",
      "42\n",
      "43\n",
      "44\n",
      "45\n",
      "46\n",
      "47\n",
      "48\n",
      "49\n",
      "50\n",
      "51\n",
      "52\n",
      "53\n",
      "54\n",
      "55\n",
      "56\n",
      "57\n",
      "58\n",
      "59\n",
      "60\n",
      "61\n",
      "62\n",
      "63\n",
      "64\n",
      "65\n",
      "66\n",
      "67\n",
      "68\n",
      "69\n",
      "70\n",
      "71\n",
      "72\n",
      "73\n",
      "74\n",
      "75\n",
      "76\n",
      "77\n",
      "78\n",
      "79\n",
      "80\n",
      "81\n",
      "82\n",
      "83\n",
      "84\n",
      "85\n",
      "86\n",
      "87\n",
      "88\n",
      "89\n",
      "90\n",
      "91\n",
      "92\n",
      "93\n",
      "94\n",
      "95\n",
      "96\n",
      "97\n",
      "98\n",
      "99\n",
      "100\n",
      "101\n",
      "102\n",
      "103\n",
      "104\n",
      "105\n",
      "106\n",
      "107\n",
      "108\n",
      "109\n",
      "110\n",
      "111\n",
      "112\n",
      "113\n",
      "114\n",
      "115\n",
      "116\n",
      "117\n",
      "118\n",
      "119\n",
      "120\n",
      "121\n",
      "122\n",
      "123\n",
      "124\n",
      "125\n",
      "126\n",
      "127\n",
      "128\n",
      "129\n",
      "130\n",
      "131\n",
      "132\n",
      "133\n",
      "134\n",
      "135\n",
      "136\n",
      "137\n",
      "138\n",
      "139\n",
      "140\n",
      "141\n",
      "142\n",
      "143\n",
      "144\n",
      "145\n",
      "146\n",
      "147\n",
      "148\n",
      "149\n",
      "150\n",
      "151\n",
      "152\n",
      "153\n",
      "154\n",
      "155\n",
      "156\n",
      "157\n",
      "158\n",
      "159\n",
      "160\n",
      "161\n",
      "162\n",
      "163\n"
     ]
    }
   ],
   "source": [
    "emb = helper.form_emb(blocks_10, model, tokenizer)\n"
   ]
  },
  {
   "cell_type": "code",
   "execution_count": 11,
   "metadata": {},
   "outputs": [],
   "source": [
    "emb = helper.read_embeddings(\"bert_emb.jsonl\")"
   ]
  },
  {
   "cell_type": "markdown",
   "metadata": {},
   "source": [
    "## Pipe"
   ]
  },
  {
   "cell_type": "code",
   "execution_count": 12,
   "metadata": {},
   "outputs": [],
   "source": [
    "kernel_entropy_values = helper.get_entropies(emb)\n",
    "kernel_entropy_values_flipped = []\n",
    "for i in kernel_entropy_values:\n",
    "    kernel_entropy_values_flipped.append(abs(i))\n",
    "    "
   ]
  },
  {
   "cell_type": "code",
   "execution_count": 13,
   "metadata": {},
   "outputs": [
    {
     "data": {
      "text/plain": [
       "[0.9906866839043654,\n",
       " 0.9682647596326586,\n",
       " 0.9707090033675423,\n",
       " 0.9903168230827406,\n",
       " 0.9212972728820279,\n",
       " 0.9754937684746404,\n",
       " 0.8693623332230956,\n",
       " 0.9773200281372018,\n",
       " 0.9749673609618376,\n",
       " 0.9839933281619947,\n",
       " 0.9735575282920603,\n",
       " 0.9128740040103315,\n",
       " 0.9762364771357336,\n",
       " 0.9879859406668807,\n",
       " 0.9941037023334877,\n",
       " 0.976865346196268,\n",
       " 0.9672409687729532,\n",
       " 0.9234320513677676,\n",
       " 0.9815115570905041,\n",
       " 0.9100140229182206,\n",
       " 0.9689889110721438,\n",
       " 0.9166670650951859,\n",
       " 0.9953700546404302,\n",
       " 0.9807842870293858,\n",
       " 0.9145839346461689,\n",
       " 0.9767080232988707,\n",
       " 0.9756429657931432,\n",
       " 0.9758702291536924,\n",
       " 0.9781779397859965,\n",
       " 0.9874637404619095,\n",
       " 0.984955783880895,\n",
       " 0.9841891582771264,\n",
       " 0.9680437043067428,\n",
       " 0.9768463799061754,\n",
       " 0.9884675435394297,\n",
       " 0.9680828035342145,\n",
       " 0.9915180166859443,\n",
       " 0.979698892156884,\n",
       " 0.9898779595274375,\n",
       " 0.9239467127943595,\n",
       " 0.9937407435793499,\n",
       " 0.9645234930081781,\n",
       " 0.9710443378497532,\n",
       " 0.9281242784045861,\n",
       " 0.9771309140496339,\n",
       " 0.9937500143639106,\n",
       " 0.9179362649244074,\n",
       " 0.9755149026845574,\n",
       " 0.9672793989908155,\n",
       " 0.9690717031666705,\n",
       " 0.9204309136384529,\n",
       " 0.9832125329351158,\n",
       " 0.9727991294474903,\n",
       " 0.9599420777165033,\n",
       " 0.9611418765951256,\n",
       " 0.9843038587660462,\n",
       " 0.9771074200799174,\n",
       " 0.9649114461951258,\n",
       " 0.9760131563840564,\n",
       " 0.9914942484407695,\n",
       " 0.9805488914846834,\n",
       " 0.9169989868441044,\n",
       " 0.9797518727263642,\n",
       " 0.923327640268563,\n",
       " 0.9787874339950849,\n",
       " 0.9701764141378051,\n",
       " 0.990107311090401,\n",
       " 0.9649634533717188,\n",
       " 0.9883860085612067,\n",
       " 0.9213835763046243,\n",
       " 0.959324829381051,\n",
       " 0.9867493980015369,\n",
       " 0.9633882408498026,\n",
       " 0.9843518947195823,\n",
       " 0.9744814986484222,\n",
       " 0.9717059380672411,\n",
       " 0.963758968981401,\n",
       " 0.9658312510821715,\n",
       " 0.9804061962321953,\n",
       " 0.9806838156627858,\n",
       " 0.9788122171508229,\n",
       " 0.957935921404859,\n",
       " 0.9834736984751404,\n",
       " 0.9814099138470853,\n",
       " 0.9686606861223892,\n",
       " 0.9877015988893659,\n",
       " 0.9759822922951622,\n",
       " 0.9779840358882136,\n",
       " 0.9864026096302534,\n",
       " 0.9562072312995835,\n",
       " 0.9879815380688161,\n",
       " 0.9869927228751575,\n",
       " 0.9790818473085641,\n",
       " 0.9481420008719239,\n",
       " 0.973723229115656,\n",
       " 0.9746632351015178,\n",
       " 0.9825271189983157,\n",
       " 0.9797728263211106,\n",
       " 0.9905730905296365,\n",
       " 0.9729273985513263,\n",
       " 0.9887053724120735,\n",
       " 0.9209643957726412,\n",
       " 0.9709019423047867,\n",
       " 0.9891264770806683,\n",
       " 0.9574328207004653,\n",
       " 0.9717599006214763,\n",
       " 0.9894675699404734,\n",
       " 0.988588510098838,\n",
       " 0.9781151471407686,\n",
       " 0.9865712583622062,\n",
       " 0.9783400961858121,\n",
       " 0.9712921237437787,\n",
       " 0.9823543015682601,\n",
       " 0.9819732016313166,\n",
       " 0.9768476142436896,\n",
       " 0.937545714609075,\n",
       " 0.9771801204477607,\n",
       " 0.9700747089894972,\n",
       " 0.9737951450456952,\n",
       " 0.9146844440904854,\n",
       " 0.9528217322157142,\n",
       " 0.9834454351270535,\n",
       " 0.9150687119756105,\n",
       " 0.9891164363533929,\n",
       " 0.9867136163304226,\n",
       " 0.9777046925159129,\n",
       " 0.9857822906674689,\n",
       " 0.981864949336755,\n",
       " 0.9759599916766359,\n",
       " 0.9219225375921909,\n",
       " 0.9811199585527695,\n",
       " 0.9861282230074744,\n",
       " 0.9760667394723015,\n",
       " 0.9734414358313406,\n",
       " 0.9795352073330191,\n",
       " 0.9782191510217015,\n",
       " 0.9138164978506773,\n",
       " 0.9725613507626159,\n",
       " 0.9858453033235394,\n",
       " 0.9869316289677049,\n",
       " 0.9751994323164671,\n",
       " 0.9776765656362612,\n",
       " 0.9856383761818498,\n",
       " 0.9748185889609023,\n",
       " 0.967742539919072,\n",
       " 0.9759247481463594,\n",
       " 0.9767740565961668,\n",
       " 0.9731600614543278,\n",
       " 0.96859527787622,\n",
       " 0.9128065742012835,\n",
       " 0.9816720064742414,\n",
       " 0.9738397041347986,\n",
       " 0.9738349765109257,\n",
       " 0.9239122308939602,\n",
       " 0.956036057975502,\n",
       " 0.9860441121424164,\n",
       " 0.9792048977887957,\n",
       " 0.9800905016173849,\n",
       " 0.9100348246322195,\n",
       " 0.9766271139145007,\n",
       " 0.9775242379371544,\n",
       " 0.9769605006256528,\n",
       " 0.9786329426108491,\n",
       " 0.9819671182580562]"
      ]
     },
     "execution_count": 13,
     "metadata": {},
     "output_type": "execute_result"
    }
   ],
   "source": [
    "kernel_entropy_values_flipped"
   ]
  },
  {
   "cell_type": "code",
   "execution_count": 14,
   "metadata": {},
   "outputs": [],
   "source": [
    "is_prediction_correct = helper.get_pass(samples_1)"
   ]
  },
  {
   "cell_type": "code",
   "execution_count": 15,
   "metadata": {},
   "outputs": [],
   "source": [
    "kent_auroc = metrics.roc_auc_score(\n",
    "    is_prediction_correct,\n",
    "    kernel_entropy_values_flipped\n",
    ")"
   ]
  },
  {
   "cell_type": "code",
   "execution_count": 16,
   "metadata": {},
   "outputs": [
    {
     "data": {
      "text/plain": [
       "0.5728451563691839"
      ]
     },
     "execution_count": 16,
     "metadata": {},
     "output_type": "execute_result"
    }
   ],
   "source": [
    "kent_auroc"
   ]
  },
  {
   "cell_type": "code",
   "execution_count": 13,
   "metadata": {},
   "outputs": [],
   "source": [
    "res = helper.compare_results(kernel_entropy_values_flipped, is_prediction_correct)"
   ]
  },
  {
   "cell_type": "code",
   "execution_count": 14,
   "metadata": {},
   "outputs": [
    {
     "name": "stdout",
     "output_type": "stream",
     "text": [
      "164\n"
     ]
    }
   ],
   "source": [
    "print(len(res))"
   ]
  },
  {
   "cell_type": "code",
   "execution_count": 15,
   "metadata": {},
   "outputs": [
    {
     "name": "stdout",
     "output_type": "stream",
     "text": [
      "(0.9906867133246527, False)\n",
      "(0.9682647705078125, False)\n",
      "(0.9707090589735243, True)\n",
      "(0.9903168572319878, True)\n",
      "(0.9212972852918837, True)\n",
      "(0.9754938761393229, True)\n",
      "(0.869362301296658, False)\n",
      "(0.9773200141059027, True)\n",
      "(0.9749673631456163, True)\n",
      "(0.9839932759602864, True)\n",
      "(0.9735575358072917, False)\n",
      "(0.9128739251030816, False)\n",
      "(0.9762363857693143, True)\n",
      "(0.9879859076605902, True)\n",
      "(0.9941034952799479, True)\n",
      "(0.9768653869628906, True)\n",
      "(0.9672409057617187, True)\n",
      "(0.9234320746527778, False)\n",
      "(0.9815115186903212, True)\n",
      "(0.9100140889485677, False)\n",
      "(0.9689888848198784, False)\n",
      "(0.9166670905219184, True)\n",
      "(0.9953699747721354, True)\n",
      "(0.9807843526204427, True)\n",
      "(0.9145840115017361, True)\n",
      "(0.9767080518934462, True)\n",
      "(0.9756429884168837, False)\n",
      "(0.9758702596028646, True)\n",
      "(0.978177981906467, True)\n",
      "(0.9874637179904514, True)\n",
      "(0.9849557664659289, True)\n",
      "(0.9841891818576389, True)\n",
      "(0.9680437723795573, False)\n",
      "(0.9768463982476129, False)\n",
      "(0.9884674919976129, True)\n",
      "(0.9680828518337674, True)\n",
      "(0.9915179782443576, False)\n",
      "(0.9796989440917969, False)\n",
      "(0.98987791273329, False)\n",
      "(0.9239468044704862, False)\n",
      "(0.9937407599555121, True)\n",
      "(0.9645234849717882, False)\n",
      "(0.9710443284776475, True)\n",
      "(0.9281242370605469, True)\n",
      "(0.9771308898925781, False)\n",
      "(0.9937500847710503, True)\n",
      "(0.9179361131456163, True)\n",
      "(0.9755149841308594, True)\n",
      "(0.9672793070475261, False)\n",
      "(0.9690717061360677, True)\n",
      "(0.920430925157335, False)\n",
      "(0.9832124498155382, True)\n",
      "(0.972799089219835, True)\n",
      "(0.959942118326823, True)\n",
      "(0.9611418830023871, False)\n",
      "(0.9843038770887587, True)\n",
      "(0.9771074930826823, True)\n",
      "(0.9649113125271267, True)\n",
      "(0.9760130988226996, True)\n",
      "(0.9914943271213108, False)\n",
      "(0.9805488586425781, True)\n",
      "(0.9169990539550781, True)\n",
      "(0.9797518412272136, False)\n",
      "(0.92332763671875, True)\n",
      "(0.9787874857584635, False)\n",
      "(0.9701764424641927, False)\n",
      "(0.9901073879665798, True)\n",
      "(0.9649634467230903, True)\n",
      "(0.9883860270182292, True)\n",
      "(0.9213834974500869, False)\n",
      "(0.9593247307671441, False)\n",
      "(0.9867494371202257, True)\n",
      "(0.9633882310655382, True)\n",
      "(0.9843518575032552, False)\n",
      "(0.9744814554850261, True)\n",
      "(0.9717059665256076, False)\n",
      "(0.963759019639757, False)\n",
      "(0.9658313327365451, True)\n",
      "(0.9804061889648438, True)\n",
      "(0.9806838141547309, True)\n",
      "(0.9788122389051649, False)\n",
      "(0.9579359266493056, False)\n",
      "(0.9834737141927083, False)\n",
      "(0.9814098782009548, True)\n",
      "(0.968660651312934, False)\n",
      "(0.9877015855577257, False)\n",
      "(0.9759824117024739, True)\n",
      "(0.9779839409722222, True)\n",
      "(0.9864027235243056, True)\n",
      "(0.9562071906195746, False)\n",
      "(0.987981669108073, False)\n",
      "(0.9869927300347222, False)\n",
      "(0.9790817260742187, False)\n",
      "(0.9481420728895399, False)\n",
      "(0.9737232632107204, False)\n",
      "(0.9746632893880208, False)\n",
      "(0.9825270758734809, False)\n",
      "(0.9797728644476996, True)\n",
      "(0.9905730353461372, False)\n",
      "(0.9729274325900608, False)\n",
      "(0.9887053595648871, False)\n",
      "(0.9209643893771702, False)\n",
      "(0.9709019978841146, False)\n",
      "(0.9891265021430121, True)\n",
      "(0.9574328104654948, True)\n",
      "(0.9717599656846788, False)\n",
      "(0.9894674513075087, False)\n",
      "(0.988588629828559, True)\n",
      "(0.9781151665581598, False)\n",
      "(0.9865711636013454, False)\n",
      "(0.9783401489257812, False)\n",
      "(0.9712921990288629, False)\n",
      "(0.9823543972439236, True)\n",
      "(0.9819731818305122, False)\n",
      "(0.9768475850423177, False)\n",
      "(0.9375457763671875, False)\n",
      "(0.9771802266438802, False)\n",
      "(0.9700748867458767, False)\n",
      "(0.9737952338324652, False)\n",
      "(0.9146844651963976, False)\n",
      "(0.952821773952908, False)\n",
      "(0.9834454854329427, True)\n",
      "(0.9150687323676215, False)\n",
      "(0.9891164991590712, True)\n",
      "(0.9867135789659288, False)\n",
      "(0.9777047051323785, False)\n",
      "(0.9857822842068142, False)\n",
      "(0.9818650139702692, False)\n",
      "(0.9759601169162326, False)\n",
      "(0.9219224717881944, False)\n",
      "(0.981119876437717, False)\n",
      "(0.9861282348632813, False)\n",
      "(0.9760667588975694, False)\n",
      "(0.9734414842393663, False)\n",
      "(0.9795352511935764, False)\n",
      "(0.9782190958658854, False)\n",
      "(0.9138164944118924, True)\n",
      "(0.9725613064236112, False)\n",
      "(0.9858452690972223, True)\n",
      "(0.9869316948784722, False)\n",
      "(0.9751995510525173, False)\n",
      "(0.9776763916015625, False)\n",
      "(0.9856383429633246, True)\n",
      "(0.9748185051812066, False)\n",
      "(0.9677424960666232, False)\n",
      "(0.9759247673882379, False)\n",
      "(0.976773918999566, False)\n",
      "(0.9731601291232639, True)\n",
      "(0.968595208062066, False)\n",
      "(0.9128067016601562, False)\n",
      "(0.9816719902886285, False)\n",
      "(0.9738397386338976, False)\n",
      "(0.9738349914550781, True)\n",
      "(0.9239122178819444, False)\n",
      "(0.956036122639974, False)\n",
      "(0.9860440572102864, False)\n",
      "(0.9792048984103733, False)\n",
      "(0.9800905015733506, False)\n",
      "(0.9100348578559028, True)\n",
      "(0.9766270955403645, False)\n",
      "(0.9775243123372396, False)\n",
      "(0.9769605000813802, True)\n",
      "(0.9786330329047309, False)\n",
      "(0.9819670783148872, False)\n"
     ]
    }
   ],
   "source": [
    "for t in res:\n",
    "    print(t)"
   ]
  },
  {
   "cell_type": "markdown",
   "metadata": {
    "jp-MarkdownHeadingCollapsed": true
   },
   "source": [
    "## Debug"
   ]
  },
  {
   "cell_type": "code",
   "execution_count": 5,
   "metadata": {},
   "outputs": [],
   "source": [
    "data = []\n",
    "with open('CLR10.jsonl') as f:\n",
    "    for line in f:\n",
    "        data.append(json.loads(line))"
   ]
  },
  {
   "cell_type": "code",
   "execution_count": 7,
   "metadata": {},
   "outputs": [
    {
     "data": {
      "text/plain": [
       "'HumanEval/1'"
      ]
     },
     "execution_count": 7,
     "metadata": {},
     "output_type": "execute_result"
    }
   ],
   "source": [
    "data[10][\"task_id\"]"
   ]
  },
  {
   "cell_type": "code",
   "execution_count": 80,
   "metadata": {},
   "outputs": [
    {
     "name": "stdout",
     "output_type": "stream",
     "text": [
      "10\n"
     ]
    }
   ],
   "source": [
    "print(len(block_0))"
   ]
  },
  {
   "cell_type": "code",
   "execution_count": 109,
   "metadata": {},
   "outputs": [],
   "source": [
    "def form_emb(data):\n",
    "    embeddings = []\n",
    "    for line in data:\n",
    "        print(line[\"task_id\"])\n",
    "        try:\n",
    "            embedding = functions.get_embedding(model, tokenizer, line[\"completion\"])\n",
    "            fix = embedding.detach()\n",
    "            embeddings.append(fix)\n",
    "        except:\n",
    "            continue\n",
    "            \n",
    "    return embeddings"
   ]
  },
  {
   "cell_type": "code",
   "execution_count": 110,
   "metadata": {},
   "outputs": [
    {
     "name": "stdout",
     "output_type": "stream",
     "text": [
      "HumanEval/2\n",
      "HumanEval/2\n",
      "HumanEval/2\n",
      "HumanEval/2\n",
      "HumanEval/2\n",
      "HumanEval/2\n",
      "HumanEval/2\n",
      "HumanEval/2\n",
      "HumanEval/2\n",
      "HumanEval/2\n"
     ]
    }
   ],
   "source": [
    "block_emb = form_emb(block_0)"
   ]
  },
  {
   "cell_type": "code",
   "execution_count": null,
   "metadata": {},
   "outputs": [],
   "source": [
    "sample0_emb = functions.get_embedding(model, tokenizer, sample0)\n",
    "sample1_emb = functions.get_embedding(model, tokenizer, sample1)\n",
    "sample2_emb = functions.get_embedding(model, tokenizer, sample2)\n",
    "sample3_emb = functions.get_embedding(model, tokenizer, sample3)\n",
    "sample4_emb = functions.get_embedding(model, tokenizer, sample4)\n",
    "sample5_emb = functions.get_embedding(model, tokenizer, sample5)\n",
    "sample6_emb = functions.get_embedding(model, tokenizer, sample6)\n",
    "sample7_emb = functions.get_embedding(model, tokenizer, sample7)\n",
    "sample8_emb = functions.get_embedding(model, tokenizer, sample8)\n",
    "sample9_emb = functions.get_embedding(model, tokenizer, sample9)\n",
    "\n",
    "\n",
    "embedding_room_detach = [sample0_emb[0].detach(), sample1_emb[0].detach(), sample2_emb[0].detach(), sample3_emb[0].detach(), sample4_emb[0].detach(), sample5_emb[0].detach(), sample6_emb[0].detach(), sample7_emb[0].detach(), sample8_emb[0].detach(), sample9_emb[0].detach()]\n",
    "embedding_room_0 = [sample0_emb[0], sample1_emb[0], sample2_emb[0], sample3_emb[0], sample4_emb[0], sample5_emb[0], sample6_emb[0], sample7_emb[0], sample8_emb[0], sample9_emb[0]]\n",
    "embedding_room_1 = [sample0_emb, sample1_emb, sample2_emb, sample3_emb, sample4_emb, sample5_emb, sample6_emb, sample7_emb, sample8_emb, sample9_emb]\n",
    "\n",
    "\n",
    "\n",
    "embeddings = [i.mean(0).detach().numpy() for i in embedding_room_1]\n",
    "embeddings = np.array(embeddings)\n",
    "\n",
    "embeddings_nomean = [i.mean(0).detach().numpy() for i in embedding_room_1]\n",
    "embeddings_nomean = np.array(embeddings)"
   ]
  }
 ],
 "metadata": {
  "kernelspec": {
   "display_name": "Python 3 (ipykernel)",
   "language": "python",
   "name": "python3"
  },
  "language_info": {
   "codemirror_mode": {
    "name": "ipython",
    "version": 3
   },
   "file_extension": ".py",
   "mimetype": "text/x-python",
   "name": "python",
   "nbconvert_exporter": "python",
   "pygments_lexer": "ipython3",
   "version": "3.11.7"
  }
 },
 "nbformat": 4,
 "nbformat_minor": 4
}
